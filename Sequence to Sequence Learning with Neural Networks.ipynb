{
 "cells": [
  {
   "cell_type": "markdown",
   "metadata": {},
   "source": [
    "# <center>Sequence-to-Sequence Learning with Neural Networks</center>"
   ]
  },
  {
   "cell_type": "markdown",
   "metadata": {},
   "source": [
    "Throughout this notebook, we will create an **English to French translator**  using a sequence-sequence network."
   ]
  },
  {
   "cell_type": "markdown",
   "metadata": {},
   "source": [
    "1. [What is a sequence to sequence network ?](#sec1)\n"
   ]
  },
  {
   "cell_type": "markdown",
   "metadata": {},
   "source": [
    "# 1. <a id=\"sec1\"></a>What is a Sequence-to-Sequence model ?"
   ]
  },
  {
   "cell_type": "markdown",
   "metadata": {},
   "source": [
    "<i>Sequence-to-Sequence</i> (abrv. Seq2Seq) models are deep learning models that take a sequence of items (sentences, medical signals, speech waveforms, time series, …) and output another sequence of items, hence its name \"sequence to sequence\"."
   ]
  },
  {
   "cell_type": "markdown",
   "metadata": {},
   "source": [
    "<video width=\"852\" height=\"480\" controls src=\"Images/seq2seq_1.mp4\" />"
   ]
  },
  {
   "cell_type": "markdown",
   "metadata": {},
   "source": [
    "These models are explained in the two pioneering papers : [Sutskever et al., 2014](http://papers.nips.cc/paper/5346-sequence-to-sequence-learning-with-neural-networks.pdf) and [Cho et al., 2014](http://emnlp2014.org/papers/pdf/EMNLP2014179.pdf)."
   ]
  },
  {
   "cell_type": "markdown",
   "metadata": {},
   "source": [
    "Sequence to sequence models have proven their effectiveness for many tasks in particular in machine translation, text summarization, image captioning, and speech recognition. \n",
    "\n",
    "In the case of Neural Machine Translation, the input is a series of words, and the output is the translated series of words. Until 2014, [Statistical Machine Translation](https://en.wikipedia.org/wiki/Statistical_machine_translation) was by far the most widely studied machine translation method, using statistical models. The introduction of [Neural Machine Translation](https://en.wikipedia.org/wiki/Neural_machine_translation) has significantly increased performance and for instance Google introduced in November 2016 its brand new neural machine translation new [Google Neural Machine Translation](https://en.wikipedia.org/wiki/Google_Neural_Machine_Translation) for Google Translate."
   ]
  },
  {
   "cell_type": "markdown",
   "metadata": {},
   "source": [
    "<video width=\"852\" height=\"480\" controls src=\"Images/seq2seq_mt.mp4\" />"
   ]
  },
  {
   "cell_type": "markdown",
   "metadata": {},
   "source": [
    "# 2. <a id=\"sec2\"></a>How is it made ?"
   ]
  },
  {
   "cell_type": "markdown",
   "metadata": {},
   "source": [
    "A seq2seq network is made of two neural networks. The first one is a **encoder**, which encodes a variable length input sequence to a fixed-length context vector (we will talk about his context vector later). The second one a **decoder** which receives this context vector and produces the output sequence."
   ]
  },
  {
   "cell_type": "markdown",
   "metadata": {},
   "source": [
    "<video width=\"852\" height=\"480\" controls src=\"Images/seq2seq_2.mp4\" />"
   ]
  },
  {
   "cell_type": "markdown",
   "metadata": {},
   "source": [
    "Note that the input is **3** circles, and the output is **4** triangles. \n",
    "\n",
    "Indeed, for tranlation for example, the length of the input sequence in language A is not necessarily equal to the length of the output sequence in language B. \"Je suis étudiant\" becomes \"I am a student\". A seq2seq model is able to take a variable-length sequence as an input, and return a variable-length sequence as an output, using a fixed-sized model by encoding many inputs into one vector, and decoding from one vector into many outputs. The seq2seq model frees us from sequence length, which makes it ideal for translation between two languages and opens a whole new range of problems which can now be solved using such architecture."
   ]
  },
  {
   "cell_type": "markdown",
   "metadata": {},
   "source": [
    "The encoder and decoder neural networks are generelly **RNNs (Recurrent Neural Networks)**."
   ]
  },
  {
   "cell_type": "markdown",
   "metadata": {},
   "source": [
    "### Why do we use RNNs ?"
   ]
  },
  {
   "cell_type": "markdown",
   "metadata": {},
   "source": [
    "Remember, as we saw with Denis with the Time-series Forecasting notebook, recurrent neural networks depend on the previous state for the current state's computation. Instead of simply prediction $Y = f(x)$ as in feed-forward neural networks, recurrent networks do $Y_1 = f(x_1, f(x_0))$."
   ]
  },
  {
   "cell_type": "markdown",
   "metadata": {},
   "source": [
    "<img src=\"Images/unrolled_rnn.png\"/>"
   ]
  },
  {
   "cell_type": "markdown",
   "metadata": {},
   "source": [
    "You can see that at every point in time, it takes as input its own previous state and the new input at that time step.\n",
    "<div class=\"alert alert-success\">\n",
    "RNNs remember their previous state.\n",
    "</div>\n",
    "\n",
    "Each state is a function of the previous state, which is the function of its previous state, and so on. So, state n contain information from all past timesteps. And we need this to predict sequences. Indeed, elements in the sequences and the order of these elements have a strong relationship. For instance, a sentence contains words in a certain order and some of which have a strong influence on others. \n",
    "\n",
    "For example, let's translate using Google Translate \"Je surveille mes actions tous les jours\" in english :"
   ]
  },
  {
   "cell_type": "markdown",
   "metadata": {},
   "source": [
    "<img src=\"Images/mt_ex_1.png\"/>"
   ]
  },
  {
   "cell_type": "markdown",
   "metadata": {},
   "source": [
    "Now, let's translate \"A la bourse, je surveille mes actions tous les jours\" :"
   ]
  },
  {
   "cell_type": "markdown",
   "metadata": {},
   "source": [
    "<img src=\"Images/mt_ex_2.png\"/>"
   ]
  },
  {
   "cell_type": "markdown",
   "metadata": {},
   "source": [
    "**To recap**, here's a animation showing what we have for a seq2seq machine translation model for the moment."
   ]
  },
  {
   "cell_type": "markdown",
   "metadata": {},
   "source": [
    "<video width=\"852\" height=\"480\" controls src=\"Images/seq2seq_4.mp4\" />"
   ]
  },
  {
   "cell_type": "markdown",
   "metadata": {},
   "source": [
    "In theory, the context vector (the final hidden state of the encoder) will contain semantic information about the query sentence that is input to the bot. \n",
    "**Problem**: The context vector is responsible for representing the entire input sequence. The output sequence relies heavily on this vector, making it challenging for the model to deal with long sentences. A solution was proposed in the papers [Bahdanau et al., 2014](https://arxiv.org/pdf/1409.0473.pdf) and [Luong et al., 2015](https://arxiv.org/pdf/1508.04025.pdf) : **attention**."
   ]
  },
  {
   "cell_type": "markdown",
   "metadata": {},
   "source": [
    "### Attention"
   ]
  },
  {
   "cell_type": "markdown",
   "metadata": {},
   "source": [
    "Attention allows the model to focus on the relevant parts of the input sequence at every stage of the output sequence allowing the context to be preserved from beginning to end. \n",
    "\n",
    "Instead of sending only one single hidden state vector to the decoder, we send a attention vector created from a linear combination of all previous hidden states."
   ]
  },
  {
   "cell_type": "markdown",
   "metadata": {},
   "source": [
    "<video width=\"852\" height=\"480\" controls src=\"Images/seq2seq_5.mp4\" />"
   ]
  },
  {
   "cell_type": "markdown",
   "metadata": {},
   "source": [
    "For every step the decoder can select a different part of the input sentence to consider. So, every step, a new attention vector (so a new linear combination) is calculated to be relevant for the decoder."
   ]
  },
  {
   "cell_type": "markdown",
   "metadata": {},
   "source": [
    "<video width=\"852\" height=\"480\" controls src=\"Images/seq2seq_6.mp4\" />"
   ]
  },
  {
   "cell_type": "markdown",
   "metadata": {},
   "source": [
    "For an example of the translation of the sentence \"L'accord sur la zone économique européènne a été signé en août 1992\", we can visualize the attention matrix."
   ]
  },
  {
   "cell_type": "markdown",
   "metadata": {},
   "source": [
    "<img width=\"480\" height=\"360\"  src=\"Images/attention.png\"/>"
   ]
  },
  {
   "cell_type": "markdown",
   "metadata": {},
   "source": [
    "You can see how the model, for unambiguous words like \"août\" or \"1992\", gives little importance to the other words in the sentence. You can also see that for \"zone économique européenne\", the model adapts to the reversed order between French and English."
   ]
  },
  {
   "cell_type": "markdown",
   "metadata": {},
   "source": [
    "# 3. <a id=\"sec3\"></a>Let's do our translator"
   ]
  },
  {
   "cell_type": "code",
   "execution_count": 17,
   "metadata": {},
   "outputs": [
    {
     "name": "stdout",
     "output_type": "stream",
     "text": [
      "device used is  cuda\n"
     ]
    }
   ],
   "source": [
    "import torch\n",
    "import torch.nn as nn\n",
    "import torch.nn.functional as F\n",
    "import torch.optim as optim\n",
    "import re, unicodedata\n",
    "import random\n",
    "\n",
    "#setting up device for use with pyTorch\n",
    "device = torch.device(\"cuda\" if torch.cuda.is_available() else \"cpu\")\n",
    "print(\"device used is \",device)"
   ]
  },
  {
   "cell_type": "markdown",
   "metadata": {},
   "source": [
    "## 3.1. Preprocess the data"
   ]
  },
  {
   "cell_type": "code",
   "execution_count": 10,
   "metadata": {},
   "outputs": [],
   "source": [
    "data_path = 'datasets/enfratexts.txt'"
   ]
  },
  {
   "cell_type": "code",
   "execution_count": 11,
   "metadata": {},
   "outputs": [],
   "source": [
    "SOS_token = 0\n",
    "EOS_token = 1"
   ]
  },
  {
   "cell_type": "code",
   "execution_count": 12,
   "metadata": {},
   "outputs": [],
   "source": [
    "class Lang:\n",
    "    def __init__(self, name):\n",
    "        self.name = name\n",
    "        self.word2index = {}\n",
    "        self.word2count = {}\n",
    "        self.index2word = {0: \"SOS\", 1: \"EOS\"}\n",
    "        self.n_words = 2  # Count SOS and EOS\n",
    "\n",
    "    def addSentence(self, sentence):\n",
    "        for word in sentence.split(' '):\n",
    "            self.addWord(word)\n",
    "\n",
    "    def addWord(self, word):\n",
    "        if word not in self.word2index:\n",
    "            self.word2index[word] = self.n_words\n",
    "            self.word2count[word] = 1\n",
    "            self.index2word[self.n_words] = word\n",
    "            self.n_words += 1\n",
    "        else:\n",
    "            self.word2count[word] += 1"
   ]
  },
  {
   "cell_type": "code",
   "execution_count": 19,
   "metadata": {},
   "outputs": [],
   "source": [
    "# Turn a Unicode string to plain ASCII, thanks to\n",
    "# https://stackoverflow.com/a/518232/2809427\n",
    "def unicodeToAscii(s):\n",
    "    return ''.join(\n",
    "        c for c in unicodedata.normalize('NFD', s)\n",
    "        if unicodedata.category(c) != 'Mn'\n",
    "    )\n",
    "\n",
    "# Lowercase, trim, and remove non-letter characters\n",
    "\n",
    "def normalizeString(s):\n",
    "    s = unicodeToAscii(s.lower().strip())\n",
    "    s = re.sub(r\"([.!?])\", r\"\\1\", s)\n",
    "    s = re.sub(r\"[^a-zA-Z.!?]+\", r\" \", s)\n",
    "    return s\n"
   ]
  },
  {
   "cell_type": "code",
   "execution_count": 20,
   "metadata": {},
   "outputs": [],
   "source": [
    "def readLangs(lang1, lang2, reverse=False):\n",
    "    print(\"Reading lines...\")\n",
    "\n",
    "    # Read the file and split into lines\n",
    "    lines = open('data/%s-%s.txt' % (lang1, lang2), encoding='utf-8').\\\n",
    "        read().strip().split('\\n')\n",
    "\n",
    "    # Split every line into pairs and normalize\n",
    "    pairs = [[normalizeString(s) for s in l.split('\\t')] for l in lines]\n",
    "\n",
    "    # Reverse pairs, make Lang instances\n",
    "    if reverse:\n",
    "        pairs = [list(reversed(p)) for p in pairs]\n",
    "        input_lang = Lang(lang2)\n",
    "        output_lang = Lang(lang1)\n",
    "    else:\n",
    "        input_lang = Lang(lang1)\n",
    "        output_lang = Lang(lang2)\n",
    "\n",
    "    return input_lang, output_lang, pairs"
   ]
  },
  {
   "cell_type": "code",
   "execution_count": 21,
   "metadata": {},
   "outputs": [],
   "source": [
    "MAX_LENGTH = 10\n",
    "\n",
    "eng_prefixes = (\n",
    "    \"i am \", \"i m \",\n",
    "    \"he is\", \"he s \",\n",
    "    \"she is\", \"she s \",\n",
    "    \"you are\", \"you re \",\n",
    "    \"we are\", \"we re \",\n",
    "    \"they are\", \"they re \"\n",
    ")\n",
    "\n",
    "def filterPair(p):\n",
    "    return len(p[0].split(' ')) < MAX_LENGTH and \\\n",
    "        len(p[1].split(' ')) < MAX_LENGTH and \\\n",
    "        p[1].startswith(eng_prefixes)\n",
    "\n",
    "def filterPairs(pairs):\n",
    "    return [pair for pair in pairs if filterPair(pair)]"
   ]
  },
  {
   "cell_type": "code",
   "execution_count": 22,
   "metadata": {},
   "outputs": [
    {
     "name": "stdout",
     "output_type": "stream",
     "text": [
      "Reading lines...\n",
      "Read 135842 sentence pairs\n",
      "Trimmed to 11449 sentence pairs\n",
      "Counting words...\n",
      "Counted words:\n",
      "fra 5713\n",
      "eng 3802\n",
      "['je suis tres satisfait.', 'i am very pleased.']\n"
     ]
    }
   ],
   "source": [
    "def prepareData(lang1, lang2, reverse=False):\n",
    "    input_lang, output_lang, pairs = readLangs(lang1, lang2, reverse)\n",
    "    print(\"Read %s sentence pairs\" % len(pairs))\n",
    "    pairs = filterPairs(pairs)\n",
    "    print(\"Trimmed to %s sentence pairs\" % len(pairs))\n",
    "    print(\"Counting words...\")\n",
    "    for pair in pairs:\n",
    "        input_lang.addSentence(pair[0])\n",
    "        output_lang.addSentence(pair[1])\n",
    "    print(\"Counted words:\")\n",
    "    print(input_lang.name, input_lang.n_words)\n",
    "    print(output_lang.name, output_lang.n_words)\n",
    "    return input_lang, output_lang, pairs\n",
    "\n",
    "\n",
    "input_lang, output_lang, pairs = prepareData('eng', 'fra', True)\n",
    "print(random.choice(pairs))"
   ]
  },
  {
   "cell_type": "markdown",
   "metadata": {},
   "source": [
    "## 3.2. The model"
   ]
  },
  {
   "cell_type": "code",
   "execution_count": 23,
   "metadata": {},
   "outputs": [],
   "source": [
    "class EncoderRNN(nn.Module):\n",
    "    def __init__(self, input_size, hidden_size):\n",
    "        super(EncoderRNN, self).__init__()\n",
    "        self.hidden_size = hidden_size\n",
    "        #Embedding Layer\n",
    "        self.embedding = nn.Embedding(input_size, hidden_size)\n",
    "        #GRU Layer\n",
    "        self.gru = nn.GRU(hidden_size, hidden_size)\n",
    "\n",
    "    def forward(self, input, hidden):\n",
    "        #Embedding the input\n",
    "        embedded = self.embedding(input).view(1, 1, -1)\n",
    "        output = embedded\n",
    "        output, hidden = self.gru(output, hidden)\n",
    "        return output, hidden\n",
    "\n",
    "    def initHidden(self):\n",
    "        return torch.zeros(1, 1, self.hidden_size, device=device)"
   ]
  },
  {
   "cell_type": "code",
   "execution_count": 24,
   "metadata": {},
   "outputs": [],
   "source": [
    "class DecoderRNN(nn.Module):\n",
    "    def __init__(self, hidden_size, output_size):\n",
    "        super(DecoderRNN, self).__init__()\n",
    "        self.hidden_size = hidden_size\n",
    "        #Embedding Layer\n",
    "        self.embedding = nn.Embedding(output_size, hidden_size)\n",
    "        #GRU layer\n",
    "        self.gru = nn.GRU(hidden_size, hidden_size)\n",
    "        #Linear layer mapping to the output size\n",
    "        self.out = nn.Linear(hidden_size, output_size)\n",
    "        self.softmax = nn.LogSoftmax(dim=1)\n",
    "\n",
    "    def forward(self, input, hidden):\n",
    "        #Embedding the input and applying relu\n",
    "        output = self.embedding(input).view(1, 1, -1)\n",
    "        output = F.relu(output)\n",
    "        # We feed the embedded vector as well as the context vector passed as argument into the gru\n",
    "        output, hidden = self.gru(output, hidden)\n",
    "        output = self.softmax(self.out(output[0]))\n",
    "        return output, hidden\n",
    "\n",
    "    def initHidden(self):\n",
    "        return torch.zeros(1, 1, self.hidden_size, device=device)"
   ]
  },
  {
   "cell_type": "code",
   "execution_count": 25,
   "metadata": {},
   "outputs": [],
   "source": [
    "class AttnDecoderRNN(nn.Module):\n",
    "    def __init__(self, hidden_size, output_size, dropout_p=0.1, max_length=MAX_LENGTH):\n",
    "        super(AttnDecoderRNN, self).__init__()\n",
    "        self.hidden_size = hidden_size\n",
    "        self.output_size = output_size\n",
    "        self.dropout_p = dropout_p #dropout proba\n",
    "        self.max_length = max_length\n",
    "        \n",
    "        #Embedding layers for the decoder input\n",
    "        self.embedding = nn.Embedding(self.output_size, self.hidden_size)\n",
    "        self.attn = nn.Linear(self.hidden_size * 2, self.max_length)\n",
    "        self.attn_combine = nn.Linear(self.hidden_size * 2, self.hidden_size)\n",
    "        self.dropout = nn.Dropout(self.dropout_p)\n",
    "        self.gru = nn.GRU(self.hidden_size, self.hidden_size)\n",
    "        self.out = nn.Linear(self.hidden_size, self.output_size)\n",
    "\n",
    "    def forward(self, input, hidden, encoder_outputs):\n",
    "        #First, the input (target sequence) is embedded. Some weights are randomly zeroed out to facilitate\n",
    "        #learning with the attention mechanism\n",
    "        embedded = self.embedding(input).view(1, 1, -1)\n",
    "        embedded = self.dropout(embedded)\n",
    "        \n",
    "        #Attention is computed by combining the context vectors and the embedded input\n",
    "        attn_weights = F.softmax(self.attn(torch.cat((embedded[0], hidden[0]), 1)), dim=1)\n",
    "        #Attention is applied on the encoded original sentence (in english)\n",
    "        attn_applied = torch.bmm(attn_weights.unsqueeze(0), encoder_outputs.unsqueeze(0))\n",
    "\n",
    "        #We retrieve the embedded input and the context vector (with attention applied), and combine the two tensors\n",
    "        output = torch.cat((embedded[0], attn_applied[0]), 1)\n",
    "        output = self.attn_combine(output).unsqueeze(0)\n",
    "        output = F.relu(output)\n",
    "        \n",
    "        #The attended part of the input is fed into the lstm, conditioned by the hidden and cell states\n",
    "        output, hidden = self.gru(output, hidden)\n",
    "        #Retrieve token probabilities\n",
    "        output = F.log_softmax(self.out(output[0]), dim=1)\n",
    "        \n",
    "        #In addition to the output and hidden states that are necessary for iterating, we return the attention\n",
    "        #weights, that will provide some form of explainability\n",
    "        return output, hidden, attn_weights\n",
    "\n",
    "    def initHidden(self):\n",
    "        return torch.zeros(1, 1, self.hidden_size, device=device)"
   ]
  },
  {
   "cell_type": "markdown",
   "metadata": {},
   "source": [
    "## 3.3. Functions to Vectorize the training data"
   ]
  },
  {
   "cell_type": "code",
   "execution_count": 26,
   "metadata": {},
   "outputs": [],
   "source": [
    "def indexesFromSentence(lang, sentence):\n",
    "    return [lang.word2index[word] for word in sentence.split(' ')]\n",
    "\n",
    "\n",
    "def tensorFromSentence(lang, sentence):\n",
    "    indexes = indexesFromSentence(lang, sentence)\n",
    "    indexes.append(EOS_token)\n",
    "    return torch.tensor(indexes, dtype=torch.long, device=device).view(-1, 1)\n",
    "\n",
    "\n",
    "def tensorsFromPair(pair):\n",
    "    input_tensor = tensorFromSentence(input_lang, pair[0])\n",
    "    target_tensor = tensorFromSentence(output_lang, pair[1])\n",
    "    return (input_tensor, target_tensor)\n"
   ]
  },
  {
   "cell_type": "markdown",
   "metadata": {},
   "source": [
    "## 3.4. Training the model"
   ]
  },
  {
   "cell_type": "markdown",
   "metadata": {},
   "source": [
    "### 3.4.1. One step training"
   ]
  },
  {
   "cell_type": "code",
   "execution_count": 45,
   "metadata": {},
   "outputs": [],
   "source": [
    "teacher_forcing_ratio = 0.5\n",
    "\n",
    "\n",
    "def train(input_tensor, target_tensor, encoder, decoder, encoder_optimizer, decoder_optimizer, criterion, max_length=MAX_LENGTH):\n",
    "    encoder_hidden = encoder.initHidden()\n",
    "\n",
    "    encoder_optimizer.zero_grad()\n",
    "    decoder_optimizer.zero_grad()\n",
    "\n",
    "    input_length = input_tensor.size(0)\n",
    "    target_length = target_tensor.size(0)\n",
    "\n",
    "    encoder_outputs = torch.zeros(max_length, encoder.hidden_size, device=device)\n",
    "\n",
    "    loss = 0\n",
    "\n",
    "    for ei in range(input_length):\n",
    "        encoder_output, encoder_hidden = encoder(input_tensor[ei], encoder_hidden)\n",
    "        encoder_outputs[ei] = encoder_output[0, 0]\n",
    "\n",
    "    decoder_input = torch.tensor([[SOS_token]], device=device)\n",
    "\n",
    "    decoder_hidden = encoder_hidden\n",
    "\n",
    "    use_teacher_forcing = True if random.random() < teacher_forcing_ratio else False\n",
    "\n",
    "    if use_teacher_forcing:\n",
    "        # Teacher forcing: Feed the target as the next input\n",
    "        for di in range(target_length):\n",
    "            decoder_output, decoder_hidden, decoder_attention = decoder(decoder_input, \n",
    "                                                                decoder_hidden, encoder_outputs)\n",
    "            loss += criterion(decoder_output, target_tensor[di])\n",
    "            decoder_input = target_tensor[di]  # Teacher forcing\n",
    "\n",
    "    else:\n",
    "        # Without teacher forcing: use its own predictions as the next input\n",
    "        for di in range(target_length):\n",
    "            decoder_output, decoder_hidden, decoder_attention = decoder(\n",
    "                decoder_input, decoder_hidden, encoder_outputs)\n",
    "            topv, topi = decoder_output.topk(1)\n",
    "            decoder_input = topi.squeeze().detach()  # detach from history as input\n",
    "\n",
    "            loss += criterion(decoder_output, target_tensor[di])\n",
    "            if decoder_input.item() == EOS_token:\n",
    "                break\n",
    "\n",
    "    loss.backward()\n",
    "\n",
    "    encoder_optimizer.step()\n",
    "    decoder_optimizer.step()\n",
    "\n",
    "    return loss.item() / target_length"
   ]
  },
  {
   "cell_type": "markdown",
   "metadata": {},
   "source": [
    "### 3.4.2. Plotting loss"
   ]
  },
  {
   "cell_type": "code",
   "execution_count": 119,
   "metadata": {},
   "outputs": [],
   "source": [
    "import matplotlib.pyplot as plt\n",
    "plt.switch_backend('agg')\n",
    "import matplotlib.ticker as ticker\n",
    "import numpy as np\n",
    "\n",
    "\n",
    "\n",
    "def showPlot(points):\n",
    "    plt.figure()\n",
    "    fig, ax = plt.subplots()\n",
    "    loc = ticker.MultipleLocator(base=0.2)\n",
    "    ax.yaxis.set_major_locator(loc)\n",
    "    plt.plot(points)"
   ]
  },
  {
   "cell_type": "markdown",
   "metadata": {},
   "source": [
    "### 3.4.3. Multiple training iterations"
   ]
  },
  {
   "cell_type": "code",
   "execution_count": 127,
   "metadata": {},
   "outputs": [],
   "source": [
    "def trainIters(encoder, decoder, n_iters, print_every=100, plot_every=100, learning_rate=0.01):\n",
    "    start = time.time()\n",
    "    plot_losses = []\n",
    "    print_loss_total = 0  # Reset every print_every\n",
    "    plot_loss_total = 0  # Reset every plot_every\n",
    "\n",
    "    encoder_optimizer = optim.SGD(encoder.parameters(), lr=learning_rate)\n",
    "    decoder_optimizer = optim.SGD(decoder.parameters(), lr=learning_rate)\n",
    "    training_pairs = [tensorsFromPair(random.choice(pairs))\n",
    "                      for i in range(n_iters)]\n",
    "    criterion = nn.NLLLoss()\n",
    "\n",
    "    for iter in range(1, n_iters + 1):\n",
    "        training_pair = training_pairs[iter - 1]\n",
    "        input_tensor = training_pair[0]\n",
    "        target_tensor = training_pair[1]\n",
    "\n",
    "        loss = train(input_tensor, target_tensor, encoder,\n",
    "                     decoder, encoder_optimizer, decoder_optimizer, criterion)\n",
    "        print_loss_total += loss\n",
    "        plot_loss_total += loss\n",
    "\n",
    "        if iter % print_every == 0:\n",
    "            print_loss_avg = print_loss_total / print_every\n",
    "            print_loss_total = 0\n",
    "            print(\"iter = {0} / {1} = {2:.1f}%, loss avg = {3:.2f}\".format(iter, n_iters, iter / n_iters * 100, print_loss_avg))\n",
    "\n",
    "        if iter % plot_every == 0:\n",
    "            plot_loss_avg = plot_loss_total / plot_every\n",
    "            plot_losses.append(plot_loss_avg)\n",
    "            plot_loss_total = 0\n",
    "\n",
    "    showPlot(plot_losses)"
   ]
  },
  {
   "cell_type": "markdown",
   "metadata": {},
   "source": [
    "### 3.4.4. Training"
   ]
  },
  {
   "cell_type": "code",
   "execution_count": 128,
   "metadata": {},
   "outputs": [
    {
     "name": "stdout",
     "output_type": "stream",
     "text": [
      "iter = 100 / 20000 = 0.5%, loss avg = 4.85\n",
      "iter = 200 / 20000 = 1.0%, loss avg = 3.68\n",
      "iter = 300 / 20000 = 1.5%, loss avg = 3.68\n",
      "iter = 400 / 20000 = 2.0%, loss avg = 3.66\n",
      "iter = 500 / 20000 = 2.5%, loss avg = 3.71\n",
      "iter = 600 / 20000 = 3.0%, loss avg = 3.61\n",
      "iter = 700 / 20000 = 3.5%, loss avg = 3.38\n",
      "iter = 800 / 20000 = 4.0%, loss avg = 3.40\n",
      "iter = 900 / 20000 = 4.5%, loss avg = 3.19\n",
      "iter = 1000 / 20000 = 5.0%, loss avg = 3.23\n",
      "iter = 1100 / 20000 = 5.5%, loss avg = 3.19\n",
      "iter = 1200 / 20000 = 6.0%, loss avg = 3.18\n",
      "iter = 1300 / 20000 = 6.5%, loss avg = 3.04\n",
      "iter = 1400 / 20000 = 7.0%, loss avg = 3.34\n",
      "iter = 1500 / 20000 = 7.5%, loss avg = 3.10\n",
      "iter = 1600 / 20000 = 8.0%, loss avg = 3.27\n",
      "iter = 1700 / 20000 = 8.5%, loss avg = 3.03\n",
      "iter = 1800 / 20000 = 9.0%, loss avg = 3.20\n",
      "iter = 1900 / 20000 = 9.5%, loss avg = 3.07\n",
      "iter = 2000 / 20000 = 10.0%, loss avg = 3.02\n",
      "iter = 2100 / 20000 = 10.5%, loss avg = 3.16\n",
      "iter = 2200 / 20000 = 11.0%, loss avg = 2.96\n",
      "iter = 2300 / 20000 = 11.5%, loss avg = 3.02\n",
      "iter = 2400 / 20000 = 12.0%, loss avg = 3.09\n",
      "iter = 2500 / 20000 = 12.5%, loss avg = 2.94\n",
      "iter = 2600 / 20000 = 13.0%, loss avg = 2.81\n",
      "iter = 2700 / 20000 = 13.5%, loss avg = 2.98\n",
      "iter = 2800 / 20000 = 14.0%, loss avg = 3.11\n",
      "iter = 2900 / 20000 = 14.5%, loss avg = 2.93\n",
      "iter = 3000 / 20000 = 15.0%, loss avg = 3.09\n",
      "iter = 3100 / 20000 = 15.5%, loss avg = 2.94\n",
      "iter = 3200 / 20000 = 16.0%, loss avg = 3.02\n",
      "iter = 3300 / 20000 = 16.5%, loss avg = 2.96\n",
      "iter = 3400 / 20000 = 17.0%, loss avg = 2.83\n",
      "iter = 3500 / 20000 = 17.5%, loss avg = 2.82\n",
      "iter = 3600 / 20000 = 18.0%, loss avg = 2.83\n",
      "iter = 3700 / 20000 = 18.5%, loss avg = 2.90\n",
      "iter = 3800 / 20000 = 19.0%, loss avg = 2.98\n",
      "iter = 3900 / 20000 = 19.5%, loss avg = 2.98\n",
      "iter = 4000 / 20000 = 20.0%, loss avg = 2.80\n",
      "iter = 4100 / 20000 = 20.5%, loss avg = 2.91\n",
      "iter = 4200 / 20000 = 21.0%, loss avg = 2.92\n",
      "iter = 4300 / 20000 = 21.5%, loss avg = 2.61\n",
      "iter = 4400 / 20000 = 22.0%, loss avg = 2.85\n",
      "iter = 4500 / 20000 = 22.5%, loss avg = 2.90\n",
      "iter = 4600 / 20000 = 23.0%, loss avg = 2.80\n",
      "iter = 4700 / 20000 = 23.5%, loss avg = 2.74\n",
      "iter = 4800 / 20000 = 24.0%, loss avg = 2.66\n",
      "iter = 4900 / 20000 = 24.5%, loss avg = 2.68\n",
      "iter = 5000 / 20000 = 25.0%, loss avg = 2.71\n",
      "iter = 5100 / 20000 = 25.5%, loss avg = 2.66\n",
      "iter = 5200 / 20000 = 26.0%, loss avg = 2.71\n",
      "iter = 5300 / 20000 = 26.5%, loss avg = 2.73\n",
      "iter = 5400 / 20000 = 27.0%, loss avg = 2.79\n",
      "iter = 5500 / 20000 = 27.5%, loss avg = 2.75\n",
      "iter = 5600 / 20000 = 28.0%, loss avg = 2.66\n",
      "iter = 5700 / 20000 = 28.5%, loss avg = 2.56\n",
      "iter = 5800 / 20000 = 29.0%, loss avg = 2.66\n",
      "iter = 5900 / 20000 = 29.5%, loss avg = 2.72\n",
      "iter = 6000 / 20000 = 30.0%, loss avg = 2.56\n",
      "iter = 6100 / 20000 = 30.5%, loss avg = 2.79\n",
      "iter = 6200 / 20000 = 31.0%, loss avg = 2.71\n",
      "iter = 6300 / 20000 = 31.5%, loss avg = 2.71\n",
      "iter = 6400 / 20000 = 32.0%, loss avg = 2.64\n",
      "iter = 6500 / 20000 = 32.5%, loss avg = 2.63\n",
      "iter = 6600 / 20000 = 33.0%, loss avg = 2.58\n",
      "iter = 6700 / 20000 = 33.5%, loss avg = 2.36\n",
      "iter = 6800 / 20000 = 34.0%, loss avg = 2.68\n",
      "iter = 6900 / 20000 = 34.5%, loss avg = 2.60\n",
      "iter = 7000 / 20000 = 35.0%, loss avg = 2.72\n",
      "iter = 7100 / 20000 = 35.5%, loss avg = 2.66\n",
      "iter = 7200 / 20000 = 36.0%, loss avg = 2.66\n",
      "iter = 7300 / 20000 = 36.5%, loss avg = 2.61\n",
      "iter = 7400 / 20000 = 37.0%, loss avg = 2.80\n",
      "iter = 7500 / 20000 = 37.5%, loss avg = 2.66\n",
      "iter = 7600 / 20000 = 38.0%, loss avg = 2.66\n",
      "iter = 7700 / 20000 = 38.5%, loss avg = 2.56\n",
      "iter = 7800 / 20000 = 39.0%, loss avg = 2.59\n",
      "iter = 7900 / 20000 = 39.5%, loss avg = 2.45\n",
      "iter = 8000 / 20000 = 40.0%, loss avg = 2.59\n",
      "iter = 8100 / 20000 = 40.5%, loss avg = 2.32\n",
      "iter = 8200 / 20000 = 41.0%, loss avg = 2.63\n",
      "iter = 8300 / 20000 = 41.5%, loss avg = 2.39\n",
      "iter = 8400 / 20000 = 42.0%, loss avg = 2.47\n",
      "iter = 8500 / 20000 = 42.5%, loss avg = 2.49\n",
      "iter = 8600 / 20000 = 43.0%, loss avg = 2.35\n",
      "iter = 8700 / 20000 = 43.5%, loss avg = 2.54\n",
      "iter = 8800 / 20000 = 44.0%, loss avg = 2.44\n",
      "iter = 8900 / 20000 = 44.5%, loss avg = 2.30\n",
      "iter = 9000 / 20000 = 45.0%, loss avg = 2.57\n",
      "iter = 9100 / 20000 = 45.5%, loss avg = 2.51\n",
      "iter = 9200 / 20000 = 46.0%, loss avg = 2.38\n",
      "iter = 9300 / 20000 = 46.5%, loss avg = 2.32\n",
      "iter = 9400 / 20000 = 47.0%, loss avg = 2.41\n",
      "iter = 9500 / 20000 = 47.5%, loss avg = 2.54\n",
      "iter = 9600 / 20000 = 48.0%, loss avg = 2.50\n",
      "iter = 9700 / 20000 = 48.5%, loss avg = 2.36\n",
      "iter = 9800 / 20000 = 49.0%, loss avg = 2.47\n",
      "iter = 9900 / 20000 = 49.5%, loss avg = 2.42\n",
      "iter = 10000 / 20000 = 50.0%, loss avg = 2.34\n",
      "iter = 10100 / 20000 = 50.5%, loss avg = 2.22\n",
      "iter = 10200 / 20000 = 51.0%, loss avg = 2.30\n",
      "iter = 10300 / 20000 = 51.5%, loss avg = 2.39\n",
      "iter = 10400 / 20000 = 52.0%, loss avg = 2.47\n",
      "iter = 10500 / 20000 = 52.5%, loss avg = 2.31\n",
      "iter = 10600 / 20000 = 53.0%, loss avg = 2.33\n",
      "iter = 10700 / 20000 = 53.5%, loss avg = 2.47\n",
      "iter = 10800 / 20000 = 54.0%, loss avg = 2.41\n",
      "iter = 10900 / 20000 = 54.5%, loss avg = 2.37\n",
      "iter = 11000 / 20000 = 55.0%, loss avg = 2.22\n",
      "iter = 11100 / 20000 = 55.5%, loss avg = 2.35\n",
      "iter = 11200 / 20000 = 56.0%, loss avg = 2.37\n",
      "iter = 11300 / 20000 = 56.5%, loss avg = 2.13\n",
      "iter = 11400 / 20000 = 57.0%, loss avg = 2.20\n",
      "iter = 11500 / 20000 = 57.5%, loss avg = 2.29\n",
      "iter = 11600 / 20000 = 58.0%, loss avg = 2.27\n",
      "iter = 11700 / 20000 = 58.5%, loss avg = 2.41\n",
      "iter = 11800 / 20000 = 59.0%, loss avg = 2.33\n",
      "iter = 11900 / 20000 = 59.5%, loss avg = 2.28\n",
      "iter = 12000 / 20000 = 60.0%, loss avg = 2.31\n",
      "iter = 12100 / 20000 = 60.5%, loss avg = 2.28\n",
      "iter = 12200 / 20000 = 61.0%, loss avg = 2.18\n",
      "iter = 12300 / 20000 = 61.5%, loss avg = 2.10\n",
      "iter = 12400 / 20000 = 62.0%, loss avg = 2.22\n",
      "iter = 12500 / 20000 = 62.5%, loss avg = 2.38\n",
      "iter = 12600 / 20000 = 63.0%, loss avg = 2.24\n",
      "iter = 12700 / 20000 = 63.5%, loss avg = 2.16\n",
      "iter = 12800 / 20000 = 64.0%, loss avg = 2.05\n",
      "iter = 12900 / 20000 = 64.5%, loss avg = 2.34\n",
      "iter = 13000 / 20000 = 65.0%, loss avg = 2.21\n",
      "iter = 13100 / 20000 = 65.5%, loss avg = 2.21\n",
      "iter = 13200 / 20000 = 66.0%, loss avg = 2.17\n",
      "iter = 13300 / 20000 = 66.5%, loss avg = 2.35\n",
      "iter = 13400 / 20000 = 67.0%, loss avg = 2.33\n",
      "iter = 13500 / 20000 = 67.5%, loss avg = 2.27\n",
      "iter = 13600 / 20000 = 68.0%, loss avg = 2.13\n",
      "iter = 13700 / 20000 = 68.5%, loss avg = 2.21\n",
      "iter = 13800 / 20000 = 69.0%, loss avg = 2.15\n",
      "iter = 13900 / 20000 = 69.5%, loss avg = 2.16\n",
      "iter = 14000 / 20000 = 70.0%, loss avg = 1.99\n",
      "iter = 14100 / 20000 = 70.5%, loss avg = 2.30\n",
      "iter = 14200 / 20000 = 71.0%, loss avg = 2.23\n",
      "iter = 14300 / 20000 = 71.5%, loss avg = 2.10\n",
      "iter = 14400 / 20000 = 72.0%, loss avg = 2.14\n",
      "iter = 14500 / 20000 = 72.5%, loss avg = 2.22\n",
      "iter = 14600 / 20000 = 73.0%, loss avg = 2.22\n",
      "iter = 14700 / 20000 = 73.5%, loss avg = 2.10\n",
      "iter = 14800 / 20000 = 74.0%, loss avg = 2.05\n",
      "iter = 14900 / 20000 = 74.5%, loss avg = 2.15\n",
      "iter = 15000 / 20000 = 75.0%, loss avg = 2.04\n",
      "iter = 15100 / 20000 = 75.5%, loss avg = 2.21\n",
      "iter = 15200 / 20000 = 76.0%, loss avg = 2.18\n",
      "iter = 15300 / 20000 = 76.5%, loss avg = 2.03\n",
      "iter = 15400 / 20000 = 77.0%, loss avg = 2.30\n",
      "iter = 15500 / 20000 = 77.5%, loss avg = 2.16\n",
      "iter = 15600 / 20000 = 78.0%, loss avg = 2.04\n",
      "iter = 15700 / 20000 = 78.5%, loss avg = 2.00\n",
      "iter = 15800 / 20000 = 79.0%, loss avg = 2.12\n",
      "iter = 15900 / 20000 = 79.5%, loss avg = 1.94\n",
      "iter = 16000 / 20000 = 80.0%, loss avg = 2.04\n",
      "iter = 16100 / 20000 = 80.5%, loss avg = 2.07\n",
      "iter = 16200 / 20000 = 81.0%, loss avg = 2.19\n",
      "iter = 16300 / 20000 = 81.5%, loss avg = 2.09\n",
      "iter = 16400 / 20000 = 82.0%, loss avg = 1.91\n",
      "iter = 16500 / 20000 = 82.5%, loss avg = 2.00\n",
      "iter = 16600 / 20000 = 83.0%, loss avg = 2.09\n",
      "iter = 16700 / 20000 = 83.5%, loss avg = 1.99\n",
      "iter = 16800 / 20000 = 84.0%, loss avg = 2.18\n",
      "iter = 16900 / 20000 = 84.5%, loss avg = 1.99\n",
      "iter = 17000 / 20000 = 85.0%, loss avg = 1.82\n",
      "iter = 17100 / 20000 = 85.5%, loss avg = 2.08\n",
      "iter = 17200 / 20000 = 86.0%, loss avg = 2.04\n",
      "iter = 17300 / 20000 = 86.5%, loss avg = 1.87\n",
      "iter = 17400 / 20000 = 87.0%, loss avg = 1.96\n",
      "iter = 17500 / 20000 = 87.5%, loss avg = 1.89\n",
      "iter = 17600 / 20000 = 88.0%, loss avg = 2.03\n",
      "iter = 17700 / 20000 = 88.5%, loss avg = 2.01\n",
      "iter = 17800 / 20000 = 89.0%, loss avg = 1.96\n",
      "iter = 17900 / 20000 = 89.5%, loss avg = 2.09\n",
      "iter = 18000 / 20000 = 90.0%, loss avg = 1.70\n",
      "iter = 18100 / 20000 = 90.5%, loss avg = 1.99\n"
     ]
    },
    {
     "name": "stdout",
     "output_type": "stream",
     "text": [
      "iter = 18200 / 20000 = 91.0%, loss avg = 1.83\n",
      "iter = 18300 / 20000 = 91.5%, loss avg = 1.95\n",
      "iter = 18400 / 20000 = 92.0%, loss avg = 1.91\n",
      "iter = 18500 / 20000 = 92.5%, loss avg = 2.07\n",
      "iter = 18600 / 20000 = 93.0%, loss avg = 1.87\n",
      "iter = 18700 / 20000 = 93.5%, loss avg = 2.05\n",
      "iter = 18800 / 20000 = 94.0%, loss avg = 2.10\n",
      "iter = 18900 / 20000 = 94.5%, loss avg = 1.91\n",
      "iter = 19000 / 20000 = 95.0%, loss avg = 1.89\n",
      "iter = 19100 / 20000 = 95.5%, loss avg = 1.84\n",
      "iter = 19200 / 20000 = 96.0%, loss avg = 2.02\n",
      "iter = 19300 / 20000 = 96.5%, loss avg = 2.10\n",
      "iter = 19400 / 20000 = 97.0%, loss avg = 1.70\n",
      "iter = 19500 / 20000 = 97.5%, loss avg = 1.87\n",
      "iter = 19600 / 20000 = 98.0%, loss avg = 1.82\n",
      "iter = 19700 / 20000 = 98.5%, loss avg = 1.94\n",
      "iter = 19800 / 20000 = 99.0%, loss avg = 1.79\n",
      "iter = 19900 / 20000 = 99.5%, loss avg = 1.88\n",
      "iter = 20000 / 20000 = 100.0%, loss avg = 1.89\n"
     ]
    },
    {
     "data": {
      "text/plain": [
       "<Figure size 432x288 with 0 Axes>"
      ]
     },
     "metadata": {},
     "output_type": "display_data"
    },
    {
     "data": {
      "image/png": "[encoded data removed]",
      "text/plain": [
       "<Figure size 432x288 with 1 Axes>"
      ]
     },
     "metadata": {
      "needs_background": "light"
     },
     "output_type": "display_data"
    }
   ],
   "source": [
    "# WATCH OUT ! Set the n_iter parameter, try a small value if you do not have a gpu\n",
    "\n",
    "hidden_size = 256\n",
    "\n",
    "n_iter = 15000 # 15000 iters takes 4 minutes on my computer with a gpu\n",
    "\n",
    "encoder1 = EncoderRNN(input_lang.n_words, hidden_size).to(device)\n",
    "attn_decoder1 = AttnDecoderRNN(hidden_size, output_lang.n_words, dropout_p=0.1).to(device)\n",
    "\n",
    "trainIters(encoder1, attn_decoder1, n_iter)"
   ]
  },
  {
   "cell_type": "markdown",
   "metadata": {},
   "source": [
    "### iv - Inference"
   ]
  },
  {
   "cell_type": "code",
   "execution_count": 61,
   "metadata": {},
   "outputs": [],
   "source": [
    "def evaluate(encoder, decoder, sentence, max_length=MAX_LENGTH):\n",
    "    with torch.no_grad():\n",
    "        input_tensor = tensorFromSentence(input_lang, sentence)\n",
    "        input_length = input_tensor.size()[0]\n",
    "        encoder_hidden = encoder.initHidden()\n",
    "\n",
    "        encoder_outputs = torch.zeros(max_length, encoder.hidden_size, device=device)\n",
    "\n",
    "        for ei in range(input_length):\n",
    "            encoder_output, encoder_hidden = encoder(input_tensor[ei],\n",
    "                                                     encoder_hidden)\n",
    "            encoder_outputs[ei] += encoder_output[0, 0]\n",
    "\n",
    "        decoder_input = torch.tensor([[SOS_token]], device=device)  # SOS\n",
    "\n",
    "        decoder_hidden = encoder_hidden\n",
    "\n",
    "        decoded_words = []\n",
    "        decoder_attentions = torch.zeros(max_length, max_length)\n",
    "\n",
    "        for di in range(max_length):\n",
    "            decoder_output, decoder_hidden, decoder_attention = decoder(\n",
    "                decoder_input, decoder_hidden, encoder_outputs)\n",
    "            decoder_attentions[di] = decoder_attention.data\n",
    "            topv, topi = decoder_output.data.topk(1)\n",
    "            if topi.item() == EOS_token:\n",
    "                decoded_words.append('<EOS>')\n",
    "                break\n",
    "            else:\n",
    "                decoded_words.append(output_lang.index2word[topi.item()])\n",
    "\n",
    "            decoder_input = topi.squeeze().detach()\n",
    "\n",
    "        return decoded_words, decoder_attentions[:di + 1]"
   ]
  },
  {
   "cell_type": "code",
   "execution_count": 129,
   "metadata": {},
   "outputs": [],
   "source": [
    "def evaluateRandomly(encoder, decoder, n=10):\n",
    "    for i in range(n):\n",
    "        pair = random.choice(pairs)\n",
    "        print('>', pair[0])\n",
    "        print('=', pair[1])\n",
    "        output_words, attentions = evaluate(encoder, decoder, pair[0])\n",
    "        output_sentence = ' '.join(output_words)\n",
    "        print('<', output_sentence)\n",
    "        print('')"
   ]
  },
  {
   "cell_type": "code",
   "execution_count": 130,
   "metadata": {},
   "outputs": [
    {
     "name": "stdout",
     "output_type": "stream",
     "text": [
      "> il est le chef du departement de vente.\n",
      "= he is the head of the sales department.\n",
      "< he s the the the the <EOS>\n",
      "\n",
      "> je ne suis pas raciste.\n",
      "= i m not racist.\n",
      "< i m not married. <EOS>\n",
      "\n",
      "> il ne craint pas du tout les serpents.\n",
      "= he s not at all afraid of snakes.\n",
      "< he isn not the the the <EOS>\n",
      "\n",
      "> il n est pas a l interieur.\n",
      "= he s not in.\n",
      "< he s not at the <EOS>\n",
      "\n",
      "> la moisson s annonce bonne cette annee.\n",
      "= we re expecting a good harvest this year.\n",
      "< we are going to this this this this <EOS>\n",
      "\n",
      "> tu es le seul qui puisse m aider.\n",
      "= you re the only one who can help me.\n",
      "< you are the one who can help help help help\n",
      "\n",
      "> vous etes fort craintive.\n",
      "= you re very timid.\n",
      "< you re very good. <EOS>\n",
      "\n",
      "> ils sont nos invites.\n",
      "= they are our guests.\n",
      "< they re all good. <EOS>\n",
      "\n",
      "> je deviens fou.\n",
      "= i m going crazy.\n",
      "< i m going to <EOS>\n",
      "\n",
      "> tu n es rien qu un lache.\n",
      "= you re nothing but a coward.\n",
      "< you re not like a child. <EOS>\n",
      "\n"
     ]
    }
   ],
   "source": [
    "evaluateRandomly(encoder1, attn_decoder1)"
   ]
  },
  {
   "cell_type": "markdown",
   "metadata": {},
   "source": [
    "## d. Plotting the results"
   ]
  },
  {
   "cell_type": "markdown",
   "metadata": {},
   "source": [
    "**Vizualizing attention**"
   ]
  },
  {
   "cell_type": "code",
   "execution_count": 131,
   "metadata": {},
   "outputs": [
    {
     "name": "stdout",
     "output_type": "stream",
     "text": [
      "input = je suis connue.\n",
      "output = i m thorough. <EOS>\n",
      "input = elle est trop petit.\n",
      "output = she s too too <EOS>\n",
      "input = je ne crains pas de mourir.\n",
      "output = i m not afraid of <EOS>\n",
      "input = c est un jeune directeur plein de talent.\n",
      "output = he s a good <EOS>\n"
     ]
    },
    {
     "name": "stderr",
     "output_type": "stream",
     "text": [
      "/home/matt/anaconda3/lib/python3.7/site-packages/ipykernel_launcher.py:17: UserWarning: Matplotlib is currently using agg, which is a non-GUI backend, so cannot show the figure.\n"
     ]
    },
    {
     "data": {
      "image/png": "[encoded data removed]",
      "text/plain": [
       "<Figure size 432x288 with 2 Axes>"
      ]
     },
     "metadata": {
      "needs_background": "light"
     },
     "output_type": "display_data"
    },
    {
     "data": {
      "image/png": "[encoded data removed]",
      "text/plain": [
       "<Figure size 432x288 with 2 Axes>"
      ]
     },
     "metadata": {
      "needs_background": "light"
     },
     "output_type": "display_data"
    },
    {
     "data": {
      "image/png": "[encoded data removed]",
      "text/plain": [
       "<Figure size 432x288 with 2 Axes>"
      ]
     },
     "metadata": {
      "needs_background": "light"
     },
     "output_type": "display_data"
    },
    {
     "data": {
      "image/png": "[encoded data removed]",
      "text/plain": [
       "<Figure size 432x288 with 2 Axes>"
      ]
     },
     "metadata": {
      "needs_background": "light"
     },
     "output_type": "display_data"
    }
   ],
   "source": [
    "def showAttention(input_sentence, output_words, attentions):\n",
    "    # Set up figure with colorbar\n",
    "    fig = plt.figure()\n",
    "    ax = fig.add_subplot(111)\n",
    "    cax = ax.matshow(attentions.numpy(), cmap='bone')\n",
    "    fig.colorbar(cax)\n",
    "\n",
    "    # Set up axes\n",
    "    ax.set_xticklabels([''] + input_sentence.split(' ') +\n",
    "                       ['<EOS>'], rotation=90)\n",
    "    ax.set_yticklabels([''] + output_words)\n",
    "\n",
    "    # Show label at every tick\n",
    "    ax.xaxis.set_major_locator(ticker.MultipleLocator(1))\n",
    "    ax.yaxis.set_major_locator(ticker.MultipleLocator(1))\n",
    "\n",
    "    plt.show()\n",
    "\n",
    "\n",
    "def evaluateAndShowAttention(input_sentence):\n",
    "    output_words, attentions = evaluate(encoder1, attn_decoder1, input_sentence)\n",
    "    print('input =', input_sentence)\n",
    "    print('output =', ' '.join(output_words))\n",
    "    showAttention(input_sentence, output_words, attentions)\n",
    "\n",
    "\n",
    "evaluateAndShowAttention(\"je suis connue.\")\n",
    "\n",
    "evaluateAndShowAttention(\"elle est trop petit.\")\n",
    "\n",
    "evaluateAndShowAttention(\"je ne crains pas de mourir.\")\n",
    "\n",
    "evaluateAndShowAttention(\"c est un jeune directeur plein de talent.\")"
   ]
  },
  {
   "cell_type": "code",
   "execution_count": 138,
   "metadata": {},
   "outputs": [],
   "source": [
    "def evaluateInput(encoder, decoder):\n",
    "    input_sentence = ''\n",
    "    while(1):\n",
    "        try:\n",
    "            # Get input sentence\n",
    "            input_sentence = input('> ')\n",
    "            # Check if it is quit case\n",
    "            if input_sentence == 'q' or input_sentence == 'quit': break\n",
    "            # Normalize sentence\n",
    "            input_sentence = normalizeString(input_sentence)\n",
    "            # Evaluate sentence\n",
    "            output_words, attentions = evaluate(encoder1, attn_decoder1, input_sentence)\n",
    "            # Format and print response sentence\n",
    "            output_words[:] = [x for x in output_words if not (x == 'EOS' or x == 'PAD')]\n",
    "            print('Bot:', ' '.join(output_words))\n",
    "\n",
    "        except KeyError:\n",
    "            print(\"Error: Encountered unknown word.\")"
   ]
  },
  {
   "cell_type": "code",
   "execution_count": 139,
   "metadata": {},
   "outputs": [
    {
     "name": "stdout",
     "output_type": "stream",
     "text": [
      "> je suis connue.\n",
      "Bot: i m thorough. <EOS>\n",
      "> Je\n",
      "Bot: i m beginning <EOS>\n",
      "> Salut\n",
      "Error: Encountered unknown word.\n",
      "> Bonjour\n",
      "Error: Encountered unknown word.\n",
      "> connu\n",
      "Bot: i am beginning to be a <EOS>\n",
      "> connue\n",
      "Bot: you re always <EOS>\n",
      "> toujours\n",
      "Bot: we re always to <EOS>\n",
      "> Comment ça va ?\n",
      "Bot: i m afraid to be a <EOS>\n",
      "> Cours !\n",
      "Bot: you re such <EOS>\n",
      "> va !\n",
      "Bot: you re always to <EOS>\n",
      "> Je lui ai écrit.\n",
      "Error: Encountered unknown word.\n",
      "> Je ne sais pas\n",
      "Bot: i m not your <EOS>\n",
      "> je ne sais pas.\n",
      "Bot: i m not telling <EOS>\n",
      "> je ne sais pas\n",
      "Bot: i m not your <EOS>\n",
      "> je ne sais pas ?\n",
      "Bot: i m not married. <EOS>\n",
      "> Are you ?\n",
      "Error: Encountered unknown word.\n",
      "> You\n",
      "Error: Encountered unknown word.\n",
      "> soon\n",
      "Error: Encountered unknown word.\n",
      "> son\n",
      "Bot: he is always on my new <EOS>\n",
      "> je vais me marrier\n",
      "Error: Encountered unknown word.\n",
      "> ok\n",
      "Error: Encountered unknown word.\n",
      "> d'accord\n",
      "Bot: i m beginning to the the <EOS>\n",
      "> mourir\n",
      "Bot: i m beginning to be a <EOS>\n",
      "> mourir\n",
      "Bot: i m beginning to have the <EOS>\n",
      "> ah\n",
      "Error: Encountered unknown word.\n",
      "> q\n"
     ]
    }
   ],
   "source": [
    "evaluateInput(encoder1, attn_decoder1)"
   ]
  },
  {
   "cell_type": "markdown",
   "metadata": {},
   "source": [
    "**TO SAY**\n",
    "\n",
    "Since the task is sequence based, both the encoder and decoder tend to use some form of RNNs, LSTMs, GRUs, etc. \n",
    "\n",
    "Despite their flexibility and power, DNNs can only be appliedto problems whose inputs and targetscan be sensibly encoded with vectors of fixed dimensionality. It is a significant limitation, sincemany important problems are best expressed with sequences whose lengths are not known a-priori.For example, speech recognition and machine translation are sequential problems. Likewise, ques-tion answering can also be seen as mapping a sequence of wordsrepresenting the question to a1\n",
    "sequence of words representing the answer. It is therefore clear that a domain-independent methodthat learns to map sequences to sequences would be useful.Sequences pose a challenge for DNNs because they require that the dimensionality of the inputs andoutputs is known and fixed. "
   ]
  },
  {
   "cell_type": "markdown",
   "metadata": {},
   "source": [
    "We use a GRU (Gated Recurrent Units) wich is the subject of one of AML's notebooks this year (topic number 31), if you want to learn more about it.\n",
    "\n",
    "We will use a bidirectional variant of the GRU, meaning that there are essentially two independent RNNs: one that is fed the input sequence in normal sequential order, and one that is fed the input sequence in reverse order. The outputs of each network are summed at each time step. Using a bidirectional GRU will give us the advantage of encoding both past and future context.\n",
    "\n",
    "This is important for a chatbot, unlike machine translation. For example, if your input is \"Are you a student ?\", machine translation can deal with only the past context. "
   ]
  },
  {
   "cell_type": "markdown",
   "metadata": {},
   "source": [
    "But you’ll do one trick you might have never seen before. In deep networks like this one, you need to limit extreme gradient change to ensure that the gradient doesn’t change too dramatically, a technique called gradient clipping."
   ]
  },
  {
   "cell_type": "code",
   "execution_count": null,
   "metadata": {},
   "outputs": [],
   "source": []
  }
 ],
 "metadata": {
  "kernelspec": {
   "display_name": "Python 3",
   "language": "python",
   "name": "python3"
  },
  "language_info": {
   "codemirror_mode": {
    "name": "ipython",
    "version": 3
   },
   "file_extension": ".py",
   "mimetype": "text/x-python",
   "name": "python",
   "nbconvert_exporter": "python",
   "pygments_lexer": "ipython3",
   "version": "3.7.3"
  }
 },
 "nbformat": 4,
 "nbformat_minor": 2
}
